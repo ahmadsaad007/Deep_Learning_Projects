{
  "nbformat": 4,
  "nbformat_minor": 0,
  "metadata": {
    "colab": {
      "name": "Fundus Image Classification.ipynb",
      "provenance": [],
      "authorship_tag": "ABX9TyOgWXCLHK+6zj9zE4MTW4Rj",
      "include_colab_link": true
    },
    "kernelspec": {
      "name": "python3",
      "display_name": "Python 3"
    },
    "accelerator": "GPU"
  },
  "cells": [
    {
      "cell_type": "markdown",
      "metadata": {
        "id": "view-in-github",
        "colab_type": "text"
      },
      "source": [
        "<a href=\"https://colab.research.google.com/github/ahmadsaad007/Deep_Learning_Projects/blob/master/Fundus_Image_Classification.ipynb\" target=\"_parent\"><img src=\"https://colab.research.google.com/assets/colab-badge.svg\" alt=\"Open In Colab\"/></a>"
      ]
    },
    {
      "cell_type": "code",
      "metadata": {
        "id": "c9URpEvx92_c",
        "colab_type": "code",
        "outputId": "4ea62710-833f-47f0-b842-29bad227bd61",
        "colab": {
          "base_uri": "https://localhost:8080/",
          "height": 34
        }
      },
      "source": [
        "from keras.applications.resnet50 import ResNet50\n",
        "from keras.preprocessing import image\n",
        "from keras.applications.resnet50 import preprocess_input, decode_predictions\n",
        "import numpy as np\n",
        "from keras.models import Sequential"
      ],
      "execution_count": 1,
      "outputs": [
        {
          "output_type": "stream",
          "text": [
            "Using TensorFlow backend.\n"
          ],
          "name": "stderr"
        }
      ]
    },
    {
      "cell_type": "code",
      "metadata": {
        "id": "PeJWNxIM_4-x",
        "colab_type": "code",
        "colab": {}
      },
      "source": [
        "import numpy as np\n",
        "from tensorflow.keras import layers\n",
        "from tensorflow import keras \n",
        "import tensorflow as tf\n",
        "from keras.layers.core import Dense, Dropout, Activation, Flatten\n",
        "from keras.layers.convolutional import *\n",
        "from keras.utils import np_utils\n",
        "from keras.optimizers import Adam\n",
        "from keras.metrics import categorical_crossentropy\n",
        "from keras.preprocessing.image import ImageDataGenerator\n",
        "from keras.layers.normalization import BatchNormalization\n",
        "import itertools\n",
        "from sklearn.metrics import confusion_matrix\n",
        "import matplotlib.pyplot as plt\n",
        "%matplotlib inline\n",
        "from keras import backend as K\n",
        "from keras.applications.vgg16 import VGG16\n",
        "from keras.layers import Input"
      ],
      "execution_count": 0,
      "outputs": []
    },
    {
      "cell_type": "code",
      "metadata": {
        "id": "_tY0Yk90dJ2L",
        "colab_type": "code",
        "outputId": "7d44c042-05b9-48c8-d5ec-a52ce39604f2",
        "colab": {
          "base_uri": "https://localhost:8080/",
          "height": 34
        }
      },
      "source": [
        "device_name = tf.test.gpu_device_name()\n",
        "if device_name != '/device:GPU:0':\n",
        "  raise SystemError('GPU device not found')\n",
        "print('Found GPU at: {}'.format(device_name))"
      ],
      "execution_count": 3,
      "outputs": [
        {
          "output_type": "stream",
          "text": [
            "Found GPU at: /device:GPU:0\n"
          ],
          "name": "stdout"
        }
      ]
    },
    {
      "cell_type": "code",
      "metadata": {
        "id": "iHb3jJmPAIwn",
        "colab_type": "code",
        "outputId": "f4066db4-e505-4944-cc32-7b6f307461d1",
        "colab": {
          "base_uri": "https://localhost:8080/",
          "height": 34
        }
      },
      "source": [
        "from google.colab import drive\n",
        "drive.mount('/content/drive')"
      ],
      "execution_count": 4,
      "outputs": [
        {
          "output_type": "stream",
          "text": [
            "Drive already mounted at /content/drive; to attempt to forcibly remount, call drive.mount(\"/content/drive\", force_remount=True).\n"
          ],
          "name": "stdout"
        }
      ]
    },
    {
      "cell_type": "code",
      "metadata": {
        "id": "oUaqTDfDANkK",
        "colab_type": "code",
        "outputId": "ed4c3545-2c65-4daf-cbc0-015439b4d51c",
        "colab": {
          "base_uri": "https://localhost:8080/",
          "height": 67
        }
      },
      "source": [
        "train_path = \"/content/drive/My Drive/Eye Disease Research/train\"\n",
        "test_path = \"/content/drive/My Drive/Eye Disease Research/test\"\n",
        "\n",
        "imgdata = ImageDataGenerator( rescale=1.0/255.0, validation_split=0.10)\n",
        "train_batches = imgdata.flow_from_directory(train_path,class_mode='categorical', subset='training', target_size=(768, 496) ,\n",
        "                                            classes = ['CNV','DRUSEN','NORMAL'], batch_size = 32)\n",
        "test_batches = imgdata.flow_from_directory(test_path, target_size=(768, 496) ,class_mode='categorical',\n",
        "                                           classes = ['CNV','DRUSEN','NORMAL'], batch_size = 32)\n",
        "valid_batches = imgdata.flow_from_directory(train_path, subset='validation', target_size=(768, 496) ,class_mode='categorical',\n",
        "                                            classes = ['CNV','DRUSEN','NORMAL'], batch_size = 32)\n"
      ],
      "execution_count": 5,
      "outputs": [
        {
          "output_type": "stream",
          "text": [
            "Found 64937 images belonging to 3 classes.\n",
            "Found 751 images belonging to 3 classes.\n",
            "Found 7214 images belonging to 3 classes.\n"
          ],
          "name": "stdout"
        }
      ]
    },
    {
      "cell_type": "markdown",
      "metadata": {
        "id": "BlWVACJJfxv6",
        "colab_type": "text"
      },
      "source": [
        "Lets try to see how many images do we have of each class and then use that to get the starting index of those images"
      ]
    },
    {
      "cell_type": "code",
      "metadata": {
        "id": "FjFNVH2FbWHb",
        "colab_type": "code",
        "colab": {
          "base_uri": "https://localhost:8080/",
          "height": 34
        },
        "outputId": "1f789222-790a-4d2b-9fc8-a2f22bfd9a37"
      },
      "source": [
        "mapper = {}\n",
        "for label in train_batches.classes:\n",
        "  if(label not in mapper):\n",
        "    mapper[label] = 1\n",
        "  else:\n",
        "    val = mapper[label]\n",
        "    mapper[label] = val+1\n",
        "print(mapper)"
      ],
      "execution_count": 6,
      "outputs": [
        {
          "output_type": "stream",
          "text": [
            "{0: 33485, 1: 7764, 2: 23688}\n"
          ],
          "name": "stdout"
        }
      ]
    },
    {
      "cell_type": "markdown",
      "metadata": {
        "id": "mUjNHj5xVO0e",
        "colab_type": "text"
      },
      "source": [
        "# Let's train on a prebuilt model: VGG16:\n",
        "We will need to reshape the input so that we can feed our images that are bigger than what the model was trained on."
      ]
    },
    {
      "cell_type": "code",
      "metadata": {
        "id": "41ddH_4YMoWx",
        "colab_type": "code",
        "outputId": "c0027aea-9a11-403e-f975-f1b1fb3f51cd",
        "colab": {
          "base_uri": "https://localhost:8080/",
          "height": 823
        }
      },
      "source": [
        "vgg16_model = VGG16(input_tensor=Input(shape=(768, 496, 3)),input_shape=(768,496,3), include_top = False)\n",
        "#vgg16_model.layers.pop()\n",
        "vgg16_model.summary()"
      ],
      "execution_count": 7,
      "outputs": [
        {
          "output_type": "stream",
          "text": [
            "Downloading data from https://github.com/fchollet/deep-learning-models/releases/download/v0.1/vgg16_weights_tf_dim_ordering_tf_kernels_notop.h5\n",
            "58892288/58889256 [==============================] - 1s 0us/step\n",
            "Model: \"vgg16\"\n",
            "_________________________________________________________________\n",
            "Layer (type)                 Output Shape              Param #   \n",
            "=================================================================\n",
            "input_1 (InputLayer)         (None, 768, 496, 3)       0         \n",
            "_________________________________________________________________\n",
            "block1_conv1 (Conv2D)        (None, 768, 496, 64)      1792      \n",
            "_________________________________________________________________\n",
            "block1_conv2 (Conv2D)        (None, 768, 496, 64)      36928     \n",
            "_________________________________________________________________\n",
            "block1_pool (MaxPooling2D)   (None, 384, 248, 64)      0         \n",
            "_________________________________________________________________\n",
            "block2_conv1 (Conv2D)        (None, 384, 248, 128)     73856     \n",
            "_________________________________________________________________\n",
            "block2_conv2 (Conv2D)        (None, 384, 248, 128)     147584    \n",
            "_________________________________________________________________\n",
            "block2_pool (MaxPooling2D)   (None, 192, 124, 128)     0         \n",
            "_________________________________________________________________\n",
            "block3_conv1 (Conv2D)        (None, 192, 124, 256)     295168    \n",
            "_________________________________________________________________\n",
            "block3_conv2 (Conv2D)        (None, 192, 124, 256)     590080    \n",
            "_________________________________________________________________\n",
            "block3_conv3 (Conv2D)        (None, 192, 124, 256)     590080    \n",
            "_________________________________________________________________\n",
            "block3_pool (MaxPooling2D)   (None, 96, 62, 256)       0         \n",
            "_________________________________________________________________\n",
            "block4_conv1 (Conv2D)        (None, 96, 62, 512)       1180160   \n",
            "_________________________________________________________________\n",
            "block4_conv2 (Conv2D)        (None, 96, 62, 512)       2359808   \n",
            "_________________________________________________________________\n",
            "block4_conv3 (Conv2D)        (None, 96, 62, 512)       2359808   \n",
            "_________________________________________________________________\n",
            "block4_pool (MaxPooling2D)   (None, 48, 31, 512)       0         \n",
            "_________________________________________________________________\n",
            "block5_conv1 (Conv2D)        (None, 48, 31, 512)       2359808   \n",
            "_________________________________________________________________\n",
            "block5_conv2 (Conv2D)        (None, 48, 31, 512)       2359808   \n",
            "_________________________________________________________________\n",
            "block5_conv3 (Conv2D)        (None, 48, 31, 512)       2359808   \n",
            "_________________________________________________________________\n",
            "block5_pool (MaxPooling2D)   (None, 24, 15, 512)       0         \n",
            "=================================================================\n",
            "Total params: 14,714,688\n",
            "Trainable params: 14,714,688\n",
            "Non-trainable params: 0\n",
            "_________________________________________________________________\n"
          ],
          "name": "stdout"
        }
      ]
    },
    {
      "cell_type": "markdown",
      "metadata": {
        "id": "LTYcblFmVhNx",
        "colab_type": "text"
      },
      "source": [
        "## Create a sequential model and add all the layers in VGG16 to it. Then add the Dense layers for your custom output:"
      ]
    },
    {
      "cell_type": "code",
      "metadata": {
        "id": "fdn-At0AMofQ",
        "colab_type": "code",
        "outputId": "774d1318-f71a-4dfb-bce4-66e4f17e9c64",
        "colab": {
          "base_uri": "https://localhost:8080/",
          "height": 185
        }
      },
      "source": [
        "model= Sequential()\n",
        "model.add(vgg16_model)\n",
        "model.summary()"
      ],
      "execution_count": 8,
      "outputs": [
        {
          "output_type": "stream",
          "text": [
            "Model: \"sequential_1\"\n",
            "_________________________________________________________________\n",
            "Layer (type)                 Output Shape              Param #   \n",
            "=================================================================\n",
            "vgg16 (Model)                (None, 24, 15, 512)       14714688  \n",
            "=================================================================\n",
            "Total params: 14,714,688\n",
            "Trainable params: 14,714,688\n",
            "Non-trainable params: 0\n",
            "_________________________________________________________________\n"
          ],
          "name": "stdout"
        }
      ]
    },
    {
      "cell_type": "code",
      "metadata": {
        "id": "GCwDIuU1T1S4",
        "colab_type": "code",
        "outputId": "270231ba-6d91-4d29-dcd2-94de3f156fdd",
        "colab": {
          "base_uri": "https://localhost:8080/",
          "height": 319
        }
      },
      "source": [
        "#Make the vgg16's layers non-trainable\n",
        "for layer in model.layers:\n",
        "  layer.trainable = False\n",
        "model.add(Flatten())\n",
        "model.add(Dense(256, activation='relu'))\n",
        "model.add(Dense(32, activation='relu'))\n",
        "model.add(Dense(3, activation='softmax'))\n",
        "\n",
        "model.summary()"
      ],
      "execution_count": 9,
      "outputs": [
        {
          "output_type": "stream",
          "text": [
            "Model: \"sequential_1\"\n",
            "_________________________________________________________________\n",
            "Layer (type)                 Output Shape              Param #   \n",
            "=================================================================\n",
            "vgg16 (Model)                (None, 24, 15, 512)       14714688  \n",
            "_________________________________________________________________\n",
            "flatten_1 (Flatten)          (None, 184320)            0         \n",
            "_________________________________________________________________\n",
            "dense_1 (Dense)              (None, 256)               47186176  \n",
            "_________________________________________________________________\n",
            "dense_2 (Dense)              (None, 32)                8224      \n",
            "_________________________________________________________________\n",
            "dense_3 (Dense)              (None, 3)                 99        \n",
            "=================================================================\n",
            "Total params: 61,909,187\n",
            "Trainable params: 47,194,499\n",
            "Non-trainable params: 14,714,688\n",
            "_________________________________________________________________\n"
          ],
          "name": "stdout"
        }
      ]
    },
    {
      "cell_type": "code",
      "metadata": {
        "id": "fLs5ZFWhX5lK",
        "colab_type": "code",
        "colab": {}
      },
      "source": [
        "model.compile(Adam(learning_rate=0.001), loss='categorical_crossentropy', \n",
        "              metrics=['accuracy'])"
      ],
      "execution_count": 0,
      "outputs": []
    },
    {
      "cell_type": "code",
      "metadata": {
        "id": "1EpA4h9ZnTSP",
        "colab_type": "code",
        "colab": {}
      },
      "source": [
        "from sklearn.utils import class_weight\n",
        "class_weights = class_weight.compute_class_weight('balanced', np.unique(train_batches.classes), \n",
        "                                                  train_batches.classes)"
      ],
      "execution_count": 0,
      "outputs": []
    },
    {
      "cell_type": "markdown",
      "metadata": {
        "id": "DqvQiMqRXSB-",
        "colab_type": "text"
      },
      "source": [
        "# **Training the modified VGG16 model on our data**\n",
        "\n",
        "Epochs for training should be between 8 and 16 in my opinion with steps per epoch around 250 to 300.\n",
        "\n",
        "Similarly Validation should have about 200 to 250 steps per epoch\n",
        "\n",
        "**NOTE:** Numbers are kept lower than predicted because of lower computational power and resource available!"
      ]
    },
    {
      "cell_type": "code",
      "metadata": {
        "id": "VHRCJ9BVX5y_",
        "colab_type": "code",
        "outputId": "c247dcea-56dc-4fb4-928b-1eca9d6e560a",
        "colab": {
          "base_uri": "https://localhost:8080/",
          "height": 302
        }
      },
      "source": [
        "model.fit_generator(train_batches, steps_per_epoch=226, epochs=8, verbose=1, \n",
        "                    validation_data=valid_batches, validation_steps=64, \n",
        "                    shuffle=True, class_weight = class_weights)"
      ],
      "execution_count": 13,
      "outputs": [
        {
          "output_type": "stream",
          "text": [
            "Epoch 1/8\n",
            "226/226 [==============================] - 1855s 8s/step - loss: 1.1723 - accuracy: 0.7640 - val_loss: 0.5525 - val_accuracy: 0.7832\n",
            "Epoch 2/8\n",
            "226/226 [==============================] - 1741s 8s/step - loss: 0.4665 - accuracy: 0.8518 - val_loss: 0.5109 - val_accuracy: 0.8501\n",
            "Epoch 3/8\n",
            "226/226 [==============================] - 1712s 8s/step - loss: 0.4168 - accuracy: 0.8609 - val_loss: 1.6516 - val_accuracy: 0.8086\n",
            "Epoch 4/8\n",
            "226/226 [==============================] - 1619s 7s/step - loss: 0.3291 - accuracy: 0.8815 - val_loss: 0.4787 - val_accuracy: 0.8754\n",
            "Epoch 5/8\n",
            "226/226 [==============================] - 1544s 7s/step - loss: 0.3150 - accuracy: 0.8841 - val_loss: 0.6184 - val_accuracy: 0.8560\n",
            "Epoch 6/8\n",
            "226/226 [==============================] - 1495s 7s/step - loss: 0.3104 - accuracy: 0.8897 - val_loss: 0.6018 - val_accuracy: 0.8970\n",
            "Epoch 7/8\n",
            "226/226 [==============================] - 1512s 7s/step - loss: 0.2533 - accuracy: 0.9118 - val_loss: 0.2918 - val_accuracy: 0.9062\n",
            "Epoch 8/8\n",
            "226/226 [==============================] - 1514s 7s/step - loss: 0.2578 - accuracy: 0.9040 - val_loss: 0.1150 - val_accuracy: 0.9128\n"
          ],
          "name": "stdout"
        },
        {
          "output_type": "execute_result",
          "data": {
            "text/plain": [
              "<keras.callbacks.callbacks.History at 0x7f801240eeb8>"
            ]
          },
          "metadata": {
            "tags": []
          },
          "execution_count": 13
        }
      ]
    },
    {
      "cell_type": "markdown",
      "metadata": {
        "id": "vc2juZ8jt6XT",
        "colab_type": "text"
      },
      "source": [
        "## **Evaluate model on Test Data:**"
      ]
    },
    {
      "cell_type": "code",
      "metadata": {
        "id": "9XcD1RWdt5tM",
        "colab_type": "code",
        "colab": {
          "base_uri": "https://localhost:8080/",
          "height": 50
        },
        "outputId": "80611526-2958-4ae2-a398-8c35815c180c"
      },
      "source": [
        "acc = model.evaluate_generator(test_batches, steps=len(test_batches), verbose=1)\n",
        "print(acc[1]*100)"
      ],
      "execution_count": 16,
      "outputs": [
        {
          "output_type": "stream",
          "text": [
            "24/24 [==============================] - 146s 6s/step\n",
            "96.00532650947571\n"
          ],
          "name": "stdout"
        }
      ]
    },
    {
      "cell_type": "markdown",
      "metadata": {
        "id": "157RKs0YANGr",
        "colab_type": "text"
      },
      "source": [
        "# **Save the Model:**"
      ]
    },
    {
      "cell_type": "code",
      "metadata": {
        "id": "ZUCUtWauAxWD",
        "colab_type": "code",
        "outputId": "1e333c40-410d-46ea-e346-53cacbf4fd37",
        "colab": {
          "base_uri": "https://localhost:8080/",
          "height": 34
        }
      },
      "source": [
        "model.save(\"/content/drive/My Drive/Eye Disease Research/model_vgg16.h5\")\n",
        "print(\"Saved model to disk\")"
      ],
      "execution_count": 14,
      "outputs": [
        {
          "output_type": "stream",
          "text": [
            "Saved model to disk\n"
          ],
          "name": "stdout"
        }
      ]
    },
    {
      "cell_type": "code",
      "metadata": {
        "id": "AP0CXApyBDpl",
        "colab_type": "code",
        "colab": {
          "base_uri": "https://localhost:8080/",
          "height": 34
        },
        "outputId": "1b0a9028-b204-46bf-eb44-29461c967dc9"
      },
      "source": [
        "model_json = model.to_json()\n",
        "with open(\"/content/drive/My Drive/Eye Disease Research/model_vgg16_jsn.json\", \"w\") as json_file:\n",
        "    json_file.write(model_json)\n",
        "# serialize weights to HDF5\n",
        "model.save_weights(\"model_vgg16_wt.h5\")\n",
        "print(\"Saved model to disk\")"
      ],
      "execution_count": 15,
      "outputs": [
        {
          "output_type": "stream",
          "text": [
            "Saved model to disk\n"
          ],
          "name": "stdout"
        }
      ]
    },
    {
      "cell_type": "markdown",
      "metadata": {
        "id": "_l2Iat9-WMMO",
        "colab_type": "text"
      },
      "source": [
        "# **Let's train a Resnet50 model now and see how it performs on our data**"
      ]
    },
    {
      "cell_type": "code",
      "metadata": {
        "id": "bZqfKJQer5gc",
        "colab_type": "code",
        "colab": {}
      },
      "source": [
        "resnet_model = ResNet50(weights=\"imagenet\",input_tensor=Input(shape=(768, 496, 3)),\n",
        "                        input_shape=(768,496,3), include_top = False)\n",
        "model_res= Sequential()\n",
        "model_res.add(resnet_model)\n",
        "for layer in model_res.layers:\n",
        "  layer.trainable = False\n",
        "model_res.add(Flatten())\n",
        "model_res.add(Dense(128, activation='relu'))\n",
        "model_res.add(Dense(16, activation='relu'))\n",
        "model_res.add(Dense(3, activation='softmax'))\n",
        "\n",
        "model_res.summary()"
      ],
      "execution_count": 0,
      "outputs": []
    },
    {
      "cell_type": "code",
      "metadata": {
        "id": "j8aNmhFGtaQi",
        "colab_type": "code",
        "colab": {}
      },
      "source": [
        "model_res.compile(Adam(learning_rate=0.001), loss='categorical_crossentropy', metrics=['accuracy'])\n",
        "model_res.fit_generator(train_batches, steps_per_epoch=200, epochs=10,verbose=1, \n",
        "                    validation_data=valid_batches, validation_steps=32, shuffle=True, class_weight = class_weights)"
      ],
      "execution_count": 0,
      "outputs": []
    },
    {
      "cell_type": "markdown",
      "metadata": {
        "id": "MbPapHGXuEcp",
        "colab_type": "text"
      },
      "source": [
        "## **Evaluate Model on Test Data:**"
      ]
    },
    {
      "cell_type": "code",
      "metadata": {
        "id": "LOyAD0rpuLC6",
        "colab_type": "code",
        "colab": {}
      },
      "source": [
        "acc = model_res.evaluate_generator(test_batches, steps=len(test_batches), verbose=1)\n",
        "print(acc[1]*100)"
      ],
      "execution_count": 0,
      "outputs": []
    },
    {
      "cell_type": "markdown",
      "metadata": {
        "id": "A416ZNbUtnov",
        "colab_type": "text"
      },
      "source": [
        "# **Save the modified Resnet50 Model:**"
      ]
    },
    {
      "cell_type": "code",
      "metadata": {
        "id": "aEREmoBbsKWo",
        "colab_type": "code",
        "colab": {}
      },
      "source": [
        "model_res.save(\"/content/drive/My Drive/Eye Disease Research/model_resnet50.h5\")\n",
        "print(\"Saved model to disk\")"
      ],
      "execution_count": 0,
      "outputs": []
    },
    {
      "cell_type": "code",
      "metadata": {
        "id": "kYa7K-pXtzm6",
        "colab_type": "code",
        "colab": {}
      },
      "source": [
        "model_res_json = model_res.to_json()\n",
        "with open(\"/content/drive/My Drive/Eye Disease Research/model_resnet50_jsn.json\", \"w\") as json_file:\n",
        "    json_file.write(model_res_json)\n",
        "# serialize weights to HDF5\n",
        "model_res.save_weights(\"model_resnet50_wt.h5\")\n",
        "print(\"Saved model to disk\")"
      ],
      "execution_count": 0,
      "outputs": []
    }
  ]
}