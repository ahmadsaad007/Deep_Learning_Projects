{
  "nbformat": 4,
  "nbformat_minor": 0,
  "metadata": {
    "kernelspec": {
      "display_name": "Python 3",
      "language": "python",
      "name": "python3"
    },
    "language_info": {
      "codemirror_mode": {
        "name": "ipython",
        "version": 3
      },
      "file_extension": ".py",
      "mimetype": "text/x-python",
      "name": "python",
      "nbconvert_exporter": "python",
      "pygments_lexer": "ipython3",
      "version": "3.7.1"
    },
    "colab": {
      "name": "Predicting Eye Diseases From Fundus Photographs Using Deep Learning.ipynb",
      "provenance": [],
      "collapsed_sections": [],
      "include_colab_link": true
    },
    "accelerator": "GPU"
  },
  "cells": [
    {
      "cell_type": "markdown",
      "metadata": {
        "id": "view-in-github",
        "colab_type": "text"
      },
      "source": [
        "<a href=\"https://colab.research.google.com/github/ahmadsaad007/Deep_Learning_Projects/blob/master/Predicting_Eye_Diseases_From_Fundus_Photographs_Using_Deep_Learning.ipynb\" target=\"_parent\"><img src=\"https://colab.research.google.com/assets/colab-badge.svg\" alt=\"Open In Colab\"/></a>"
      ]
    },
    {
      "cell_type": "code",
      "metadata": {
        "id": "Xukk9bqO4Vja",
        "colab_type": "code",
        "colab": {
          "base_uri": "https://localhost:8080/",
          "height": 34
        },
        "outputId": "f79ecee3-0c8e-4679-8e92-0cb97933aed1"
      },
      "source": [
        "import os\n",
        "import glob\n",
        "import numpy as np\n",
        "from tensorflow.keras import layers\n",
        "from tensorflow import keras \n",
        "import tensorflow as tf\n",
        "import numpy as np\n",
        "from keras.preprocessing import image\n",
        "from keras.models import Sequential\n",
        "from keras.layers.core import Dense, Dropout, Activation, Flatten\n",
        "from keras.layers.convolutional import *\n",
        "from keras.layers.pooling import MaxPooling2D\n",
        "from keras.utils import np_utils\n",
        "from keras.optimizers import Adam\n",
        "from keras.metrics import categorical_crossentropy\n",
        "from keras.preprocessing.image import ImageDataGenerator\n",
        "from keras.layers.normalization import BatchNormalization\n",
        "import itertools\n",
        "from sklearn.metrics import confusion_matrix\n",
        "import matplotlib.pyplot as plt\n",
        "%matplotlib inline\n",
        "from keras import backend as K"
      ],
      "execution_count": 1,
      "outputs": [
        {
          "output_type": "stream",
          "text": [
            "Using TensorFlow backend.\n"
          ],
          "name": "stderr"
        }
      ]
    },
    {
      "cell_type": "code",
      "metadata": {
        "id": "GtPTmnAPBvYX",
        "colab_type": "code",
        "colab": {
          "base_uri": "https://localhost:8080/",
          "height": 121
        },
        "outputId": "9fd23662-776c-42c7-eb95-db1ac4d13448"
      },
      "source": [
        "from google.colab import drive\n",
        "drive.mount('/content/drive')"
      ],
      "execution_count": 3,
      "outputs": [
        {
          "output_type": "stream",
          "text": [
            "Go to this URL in a browser: https://accounts.google.com/o/oauth2/auth?client_id=947318989803-6bn6qk8qdgf4n4g3pfee6491hc0brc4i.apps.googleusercontent.com&redirect_uri=urn%3aietf%3awg%3aoauth%3a2.0%3aoob&response_type=code&scope=email%20https%3a%2f%2fwww.googleapis.com%2fauth%2fdocs.test%20https%3a%2f%2fwww.googleapis.com%2fauth%2fdrive%20https%3a%2f%2fwww.googleapis.com%2fauth%2fdrive.photos.readonly%20https%3a%2f%2fwww.googleapis.com%2fauth%2fpeopleapi.readonly\n",
            "\n",
            "Enter your authorization code:\n",
            "··········\n",
            "Mounted at /content/drive\n"
          ],
          "name": "stdout"
        }
      ]
    },
    {
      "cell_type": "code",
      "metadata": {
        "id": "2FeGHpC34Vjg",
        "colab_type": "code",
        "colab": {}
      },
      "source": [
        "train_path = \"/content/drive/My Drive/Eye Disease Research/train/\"\n",
        "test_path = \"/content/drive/My Drive/Eye Disease Research/test/\""
      ],
      "execution_count": 0,
      "outputs": []
    },
    {
      "cell_type": "code",
      "metadata": {
        "id": "wvS5MGqP2EbF",
        "colab_type": "code",
        "colab": {
          "base_uri": "https://localhost:8080/",
          "height": 34
        },
        "outputId": "46387cf0-a063-4609-97ed-54a380f2af14"
      },
      "source": [
        "device_name = tf.test.gpu_device_name()\n",
        "if device_name != '/device:GPU:0':\n",
        "  raise SystemError('GPU device not found')\n",
        "print('Found GPU at: {}'.format(device_name))"
      ],
      "execution_count": 6,
      "outputs": [
        {
          "output_type": "stream",
          "text": [
            "Found GPU at: /device:GPU:0\n"
          ],
          "name": "stdout"
        }
      ]
    },
    {
      "cell_type": "code",
      "metadata": {
        "id": "ZJJeXA014Vjj",
        "colab_type": "code",
        "outputId": "2c150aed-f6d1-4461-8320-926d2c1a1729",
        "colab": {
          "base_uri": "https://localhost:8080/",
          "height": 672
        }
      },
      "source": [
        "imgdata = ImageDataGenerator(validation_split=0.2, rescale=1.0/255.0)\n",
        "train_batches = imgdata.flow_from_directory(train_path,subset='training', target_size=(512,496) ,\n",
        "                                            classes = ['CNV','DME','DRUSEN','NORMAL'], batch_size = 32)\n",
        "test_batches = imgdata.flow_from_directory(test_path, target_size=(512,496) ,\n",
        "                                           classes = ['CNV','DME','DRUSEN','NORMAL'], batch_size = 16)\n",
        "valid_batches = imgdata.flow_from_directory(train_path, subset='validation', target_size=(512,496) ,\n",
        "                                            classes = ['CNV','DME','DRUSEN','NORMAL'], batch_size = 32)\n",
        "\n",
        "model = Sequential()\n",
        "model.add(Conv2D(16, (3,3),activation='relu', padding='same', input_shape=(512,496,3)))\n",
        "model.add(MaxPooling2D(pool_size=(2, 2)))\n",
        "model.add(Conv2D(32, (3,3),activation='relu'))\n",
        "model.add(Conv2D(32, (3,3),activation='relu'))\n",
        "model.add(MaxPooling2D(pool_size=(2, 2)))\n",
        "model.add(Conv2D(64, (3,3),activation='relu', padding='valid'))\n",
        "model.add(Conv2D(64, (3,3),activation='sigmoid'))\n",
        "model.add(MaxPooling2D(pool_size=(2, 2)))\n",
        "#model.add(Dropout(0.2))\n",
        "model.add(Flatten())\n",
        "model.add(Dropout(0.2))\n",
        "model.add(Dense(256, activation ='relu'))\n",
        "model.add(Dropout(0.2))\n",
        "model.add(Dense(64, activation ='relu'))\n",
        "model.add(Dense(4, activation='softmax'))\n",
        "\n",
        "model.summary()"
      ],
      "execution_count": 10,
      "outputs": [
        {
          "output_type": "stream",
          "text": [
            "Found 32848 images belonging to 4 classes.\n",
            "Found 1001 images belonging to 4 classes.\n",
            "Found 8211 images belonging to 4 classes.\n",
            "Model: \"sequential_4\"\n",
            "_________________________________________________________________\n",
            "Layer (type)                 Output Shape              Param #   \n",
            "=================================================================\n",
            "conv2d_12 (Conv2D)           (None, 512, 496, 16)      448       \n",
            "_________________________________________________________________\n",
            "max_pooling2d_10 (MaxPooling (None, 256, 248, 16)      0         \n",
            "_________________________________________________________________\n",
            "conv2d_13 (Conv2D)           (None, 254, 246, 32)      4640      \n",
            "_________________________________________________________________\n",
            "conv2d_14 (Conv2D)           (None, 252, 244, 32)      9248      \n",
            "_________________________________________________________________\n",
            "max_pooling2d_11 (MaxPooling (None, 126, 122, 32)      0         \n",
            "_________________________________________________________________\n",
            "conv2d_15 (Conv2D)           (None, 124, 120, 64)      18496     \n",
            "_________________________________________________________________\n",
            "conv2d_16 (Conv2D)           (None, 122, 118, 64)      36928     \n",
            "_________________________________________________________________\n",
            "max_pooling2d_12 (MaxPooling (None, 61, 59, 64)        0         \n",
            "_________________________________________________________________\n",
            "flatten_4 (Flatten)          (None, 230336)            0         \n",
            "_________________________________________________________________\n",
            "dropout_7 (Dropout)          (None, 230336)            0         \n",
            "_________________________________________________________________\n",
            "dense_9 (Dense)              (None, 256)               58966272  \n",
            "_________________________________________________________________\n",
            "dropout_8 (Dropout)          (None, 256)               0         \n",
            "_________________________________________________________________\n",
            "dense_10 (Dense)             (None, 64)                16448     \n",
            "_________________________________________________________________\n",
            "dense_11 (Dense)             (None, 4)                 260       \n",
            "=================================================================\n",
            "Total params: 59,052,740\n",
            "Trainable params: 59,052,740\n",
            "Non-trainable params: 0\n",
            "_________________________________________________________________\n"
          ],
          "name": "stdout"
        }
      ]
    },
    {
      "cell_type": "code",
      "metadata": {
        "id": "NbmPMMlb4Vjm",
        "colab_type": "code",
        "colab": {}
      },
      "source": [
        "from sklearn.utils import class_weight"
      ],
      "execution_count": 0,
      "outputs": []
    },
    {
      "cell_type": "code",
      "metadata": {
        "id": "J8Qr2W4X4Vjp",
        "colab_type": "code",
        "outputId": "66ce0203-3821-42f5-c349-6e991cf3c739",
        "colab": {
          "base_uri": "https://localhost:8080/",
          "height": 34
        }
      },
      "source": [
        "mapp = {}\n",
        "for e in train_batches.classes:\n",
        "    if(e not in mapp):\n",
        "        mapp[e]=1\n",
        "    else:\n",
        "        value = mapp[e]\n",
        "        mapp[e] = value+1\n",
        "print(mapp)"
      ],
      "execution_count": 12,
      "outputs": [
        {
          "output_type": "stream",
          "text": [
            "{0: 384, 1: 4507, 2: 6901, 3: 21056}\n"
          ],
          "name": "stdout"
        }
      ]
    },
    {
      "cell_type": "code",
      "metadata": {
        "id": "a9GpJcgU4Vjv",
        "colab_type": "code",
        "outputId": "16294215-3988-485d-87ad-d89f2506282f",
        "colab": {
          "base_uri": "https://localhost:8080/",
          "height": 84
        }
      },
      "source": [
        "for ele in mapp:\n",
        "    print(\"Value: %d is that times:\" % ele, mapp[ele]/384)"
      ],
      "execution_count": 13,
      "outputs": [
        {
          "output_type": "stream",
          "text": [
            "Value: 0 is that times: 1.0\n",
            "Value: 1 is that times: 11.736979166666666\n",
            "Value: 2 is that times: 17.971354166666668\n",
            "Value: 3 is that times: 54.833333333333336\n"
          ],
          "name": "stdout"
        }
      ]
    },
    {
      "cell_type": "code",
      "metadata": {
        "id": "lMb_5Jla4Vjy",
        "colab_type": "code",
        "colab": {}
      },
      "source": [
        "class_weights = class_weight.compute_class_weight('balanced', np.unique(train_batches.classes), train_batches.classes)"
      ],
      "execution_count": 0,
      "outputs": []
    },
    {
      "cell_type": "code",
      "metadata": {
        "id": "2oM7ndeW4Vj1",
        "colab_type": "code",
        "outputId": "48f5030d-ed4e-42b2-b87b-147291a44a6a",
        "colab": {
          "base_uri": "https://localhost:8080/",
          "height": 34
        }
      },
      "source": [
        "print(class_weights)"
      ],
      "execution_count": 16,
      "outputs": [
        {
          "output_type": "stream",
          "text": [
            "[21.38541667  1.82205458  1.18997247  0.3900076 ]\n"
          ],
          "name": "stdout"
        }
      ]
    },
    {
      "cell_type": "code",
      "metadata": {
        "id": "Q6rwnfvN4Vj3",
        "colab_type": "code",
        "colab": {}
      },
      "source": [
        "model.compile(Adam(lr=0.01), loss='categorical_crossentropy', metrics=['accuracy'])"
      ],
      "execution_count": 0,
      "outputs": []
    },
    {
      "cell_type": "code",
      "metadata": {
        "id": "nrqcBjeY4Vj6",
        "colab_type": "code",
        "outputId": "5f1ca09a-d8fc-4f66-9277-5591ebe37b9f",
        "colab": {
          "base_uri": "https://localhost:8080/",
          "height": 302
        }
      },
      "source": [
        "model.fit_generator(train_batches, steps_per_epoch=8, epochs=8,verbose=1, class_weight=class_weights, \n",
        "                    validation_data=valid_batches, validation_steps=8, shuffle=True)"
      ],
      "execution_count": 18,
      "outputs": [
        {
          "output_type": "stream",
          "text": [
            "Epoch 1/8\n",
            "8/8 [==============================] - 124s 16s/step - loss: 327.9613 - accuracy: 0.5664 - val_loss: 1.2562 - val_accuracy: 0.6758\n",
            "Epoch 2/8\n",
            "8/8 [==============================] - 120s 15s/step - loss: 1.1639 - accuracy: 0.6523 - val_loss: 1.0252 - val_accuracy: 0.6875\n",
            "Epoch 3/8\n",
            "8/8 [==============================] - 120s 15s/step - loss: 0.9148 - accuracy: 0.7148 - val_loss: 1.0206 - val_accuracy: 0.5820\n",
            "Epoch 4/8\n",
            "8/8 [==============================] - 122s 15s/step - loss: 0.9213 - accuracy: 0.6797 - val_loss: 1.4593 - val_accuracy: 0.5664\n",
            "Epoch 5/8\n",
            "8/8 [==============================] - 120s 15s/step - loss: 0.8821 - accuracy: 0.6875 - val_loss: 0.7771 - val_accuracy: 0.6523\n",
            "Epoch 6/8\n",
            "8/8 [==============================] - 120s 15s/step - loss: 0.9761 - accuracy: 0.6172 - val_loss: 1.0444 - val_accuracy: 0.6367\n",
            "Epoch 7/8\n",
            "8/8 [==============================] - 119s 15s/step - loss: 1.0037 - accuracy: 0.5898 - val_loss: 0.8518 - val_accuracy: 0.6719\n",
            "Epoch 8/8\n",
            "8/8 [==============================] - 119s 15s/step - loss: 1.0017 - accuracy: 0.6367 - val_loss: 1.0215 - val_accuracy: 0.6367\n"
          ],
          "name": "stdout"
        },
        {
          "output_type": "execute_result",
          "data": {
            "text/plain": [
              "<keras.callbacks.callbacks.History at 0x7fa7faa34e10>"
            ]
          },
          "metadata": {
            "tags": []
          },
          "execution_count": 18
        }
      ]
    },
    {
      "cell_type": "code",
      "metadata": {
        "id": "JCyc3Wyw4Vj-",
        "colab_type": "code",
        "outputId": "d04f8668-77ea-436f-e541-28f3bdc44722",
        "colab": {
          "base_uri": "https://localhost:8080/",
          "height": 34
        }
      },
      "source": [
        "acc = model.evaluate_generator(test_batches, steps=len(test_batches), verbose=1)\n"
      ],
      "execution_count": 19,
      "outputs": [
        {
          "output_type": "stream",
          "text": [
            "63/63 [==============================] - 377s 6s/step\n"
          ],
          "name": "stdout"
        }
      ]
    },
    {
      "cell_type": "code",
      "metadata": {
        "id": "dkA9VNIj4VkB",
        "colab_type": "code",
        "outputId": "b73f2f91-6a19-4bd7-af17-2278683bb898",
        "colab": {
          "base_uri": "https://localhost:8080/",
          "height": 34
        }
      },
      "source": [
        "print((acc[1] * 100))"
      ],
      "execution_count": 21,
      "outputs": [
        {
          "output_type": "stream",
          "text": [
            "24.97502565383911\n"
          ],
          "name": "stdout"
        }
      ]
    },
    {
      "cell_type": "code",
      "metadata": {
        "id": "0LQ5BupD4VkE",
        "colab_type": "code",
        "colab": {
          "base_uri": "https://localhost:8080/",
          "height": 34
        },
        "outputId": "545d54c6-dd01-447b-fff0-27f0ee079d55"
      },
      "source": [
        "print((acc))"
      ],
      "execution_count": 22,
      "outputs": [
        {
          "output_type": "stream",
          "text": [
            "[2.2379252910614014, 0.2497502565383911]\n"
          ],
          "name": "stdout"
        }
      ]
    }
  ]
}